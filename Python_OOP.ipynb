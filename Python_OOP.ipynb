{
 "cells": [
  {
   "cell_type": "markdown",
   "metadata": {},
   "source": [
    "# Object Oriented Programming"
   ]
  },
  {
   "cell_type": "markdown",
   "metadata": {},
   "source": [
    "---"
   ]
  },
  {
   "cell_type": "markdown",
   "metadata": {},
   "source": [
    "## Basic Concepts\n",
    "\n"
   ]
  },
  {
   "cell_type": "code",
   "execution_count": 1,
   "metadata": {},
   "outputs": [
    {
     "data": {
      "text/plain": [
       "3.0"
      ]
     },
     "execution_count": 1,
     "metadata": {},
     "output_type": "execute_result"
    }
   ],
   "source": [
    "# This is some data\n",
    "data = (1, 2, 3, 4, 5)\n",
    "\n",
    "# This is a procedure that operates on the data\n",
    "def avg(d):\n",
    "    return sum(d)/len(d)\n",
    "\n",
    "# Usage\n",
    "avg(data)"
   ]
  },
  {
   "cell_type": "markdown",
   "metadata": {},
   "source": [
    "### Objects in Python\n",
    "\n",
    "* Examples: 2019, 2.718281828, \"Python\", [1,1,2,3,5,8,13,21]\n",
    "* Objects are \n",
    "    * data (with some internal representation)\n",
    "    * have a type\n",
    "    * have procedures associated with them\n"
   ]
  },
  {
   "cell_type": "markdown",
   "metadata": {},
   "source": [
    "#### Objects are an __instance__ of a type"
   ]
  },
  {
   "cell_type": "code",
   "execution_count": 2,
   "metadata": {},
   "outputs": [
    {
     "name": "stdout",
     "output_type": "stream",
     "text": [
      "Type of i:  <class 'int'>\n",
      "Type of e:  <class 'float'>\n",
      "Type of s:  <class 'str'>\n",
      "Type of f:  <class 'list'>\n",
      "Type of avg:  <class 'function'>\n"
     ]
    }
   ],
   "source": [
    "i = 2019\n",
    "print('Type of i: ',type(i))\n",
    "e = 2.718281828\n",
    "print('Type of e: ',type(e))\n",
    "s = \"Python\"\n",
    "print('Type of s: ',type(s))\n",
    "f = [1,1,2,3,5,8,13,21]\n",
    "print('Type of f: ',type(f))\n",
    "print('Type of avg: ',type(avg))"
   ]
  },
  {
   "cell_type": "markdown",
   "metadata": {},
   "source": [
    "### Classes\n",
    "\n",
    "A __class__ packs a set of data together with a set of functions operating on the data.\n",
    "\n",
    "A __class__ is a blueprint for creating __objects__.\n",
    "\n",
    "An __object__ is an __instance__ of the class."
   ]
  },
  {
   "cell_type": "markdown",
   "metadata": {},
   "source": [
    "[Car class](https://javatutorial.net/wp-content/uploads/2014/11/class-object-featured-image.png)\n",
    "\n",
    "* Objects are a data abstraction that contain\n",
    "    * internal representation - attributes\n",
    "    * some way to interact with the object - methods"
   ]
  },
  {
   "cell_type": "markdown",
   "metadata": {},
   "source": [
    "### Defining a class"
   ]
  },
  {
   "cell_type": "code",
   "execution_count": 3,
   "metadata": {},
   "outputs": [],
   "source": [
    "class Employee:\n",
    "    pass"
   ]
  },
  {
   "cell_type": "code",
   "execution_count": 4,
   "metadata": {},
   "outputs": [
    {
     "name": "stdout",
     "output_type": "stream",
     "text": [
      "<class 'type'>\n"
     ]
    }
   ],
   "source": [
    "# Class type\n",
    "print(type(Employee))"
   ]
  },
  {
   "cell_type": "code",
   "execution_count": 5,
   "metadata": {},
   "outputs": [],
   "source": [
    "emp_1 = Employee()\n",
    "emp_2 = Employee()"
   ]
  },
  {
   "cell_type": "markdown",
   "metadata": {},
   "source": [
    "emp_1 and emp_2 are __objects__ or __instances__ of the Employee class"
   ]
  },
  {
   "cell_type": "code",
   "execution_count": 6,
   "metadata": {},
   "outputs": [
    {
     "name": "stdout",
     "output_type": "stream",
     "text": [
      "4424020712\n",
      "4424020656\n"
     ]
    }
   ],
   "source": [
    "# Identity\n",
    "print(id(emp_1))\n",
    "print(id(emp_2))"
   ]
  },
  {
   "cell_type": "code",
   "execution_count": 8,
   "metadata": {},
   "outputs": [
    {
     "name": "stdout",
     "output_type": "stream",
     "text": [
      "False\n"
     ]
    }
   ],
   "source": [
    "print(isinstance(1, Employee))"
   ]
  },
  {
   "cell_type": "code",
   "execution_count": 9,
   "metadata": {},
   "outputs": [
    {
     "name": "stdout",
     "output_type": "stream",
     "text": [
      "<class '__main__.Employee'>\n"
     ]
    }
   ],
   "source": [
    "# Instance type \n",
    "print(type(emp_1))"
   ]
  },
  {
   "cell_type": "code",
   "execution_count": 10,
   "metadata": {},
   "outputs": [
    {
     "name": "stdout",
     "output_type": "stream",
     "text": [
      "<__main__.Employee object at 0x107b132e8>\n"
     ]
    }
   ],
   "source": [
    "# Value\n",
    "print(emp_1)  # we'll get back to this later"
   ]
  },
  {
   "cell_type": "markdown",
   "metadata": {},
   "source": [
    "### Instance Variables"
   ]
  },
  {
   "cell_type": "code",
   "execution_count": 11,
   "metadata": {},
   "outputs": [],
   "source": [
    "emp_1.first = \"Mickey\"   # set attributes using the dot notation\n",
    "emp_1.last = \"Mouse\"\n",
    "emp_1.email = \"Mickey.Mouse@company.com\"\n",
    "emp_1.pay = 50000"
   ]
  },
  {
   "cell_type": "code",
   "execution_count": 12,
   "metadata": {},
   "outputs": [
    {
     "name": "stdout",
     "output_type": "stream",
     "text": [
      "Mickey.Mouse@company.com\n"
     ]
    }
   ],
   "source": [
    "print(emp_1.email)"
   ]
  },
  {
   "cell_type": "markdown",
   "metadata": {},
   "source": [
    "Generally instance variables are defined within methods"
   ]
  },
  {
   "cell_type": "markdown",
   "metadata": {},
   "source": [
    "### Regular Methods\n",
    "\n",
    "#### How to create an instance of a class"
   ]
  },
  {
   "cell_type": "code",
   "execution_count": 19,
   "metadata": {},
   "outputs": [],
   "source": [
    "# Create an employee class with the following attributes:\n",
    "# first name, last name, email and pay\n",
    "\n",
    "class Employee:\n",
    "    \n",
    "    def __init__(self, first, last, pay):\n",
    "        self.first = first\n",
    "        self.last = last\n",
    "        self.email = first + \".\" + last + \".company.com\"\n",
    "        self.pay = pay"
   ]
  },
  {
   "cell_type": "markdown",
   "metadata": {},
   "source": [
    "#### Regular methods automatically take the instance as the first argument."
   ]
  },
  {
   "cell_type": "code",
   "execution_count": 20,
   "metadata": {},
   "outputs": [],
   "source": [
    "emp_1 = Employee('Mickey', 'Mouse', 50000)\n",
    "emp_2 = Employee('Road', 'Runner', 60000)"
   ]
  },
  {
   "cell_type": "code",
   "execution_count": 15,
   "metadata": {},
   "outputs": [
    {
     "name": "stdout",
     "output_type": "stream",
     "text": [
      "Mickey.Mouse.company.com\n",
      "Road.Runner.company.com\n"
     ]
    }
   ],
   "source": [
    "print(emp_1.email)\n",
    "print(emp_2.email)"
   ]
  },
  {
   "cell_type": "code",
   "execution_count": 16,
   "metadata": {},
   "outputs": [
    {
     "name": "stdout",
     "output_type": "stream",
     "text": [
      "4423644160\n",
      "4423645224\n"
     ]
    }
   ],
   "source": [
    "# emp_1 and emp_2 are different objects\n",
    "\n",
    "print(id(emp_1))\n",
    "print(id(emp_2))"
   ]
  },
  {
   "cell_type": "markdown",
   "metadata": {},
   "source": [
    "#### Example: Create a method that generates the employee's full name"
   ]
  },
  {
   "cell_type": "code",
   "execution_count": 21,
   "metadata": {
    "scrolled": true
   },
   "outputs": [],
   "source": [
    "# New class:\n",
    "class Employee:\n",
    "    \"\"\"\n",
    "    A simple employee class\n",
    "    \"\"\"\n",
    "    def __init__(self, first, last, pay):\n",
    "        self.first = first\n",
    "        self.last = last\n",
    "        self.email = first + '.' + last + '@company.com'\n",
    "        self.pay = pay\n",
    "        \n",
    "    def fullname(self):\n",
    "        return '{} {}'.format(self.first, self.last)\n",
    "\n"
   ]
  },
  {
   "cell_type": "code",
   "execution_count": 22,
   "metadata": {},
   "outputs": [
    {
     "name": "stdout",
     "output_type": "stream",
     "text": [
      "Mickey Mouse\n",
      "Road Runner\n"
     ]
    }
   ],
   "source": [
    "# Test code:\n",
    "\n",
    "emp_1 = Employee('Mickey', 'Mouse', 50000)\n",
    "emp_2 = Employee('Road', 'Runner', 60000)\n",
    "print(emp_1.fullname())   # to use a method use the dot notation\n",
    "print(emp_2.fullname())"
   ]
  },
  {
   "cell_type": "code",
   "execution_count": 23,
   "metadata": {},
   "outputs": [
    {
     "name": "stdout",
     "output_type": "stream",
     "text": [
      "Mickey Mouse\n"
     ]
    }
   ],
   "source": [
    "# Note that print(emp_1.fullname()) is equivalent to\n",
    "\n",
    "print(Employee.fullname(emp_1))"
   ]
  },
  {
   "cell_type": "markdown",
   "metadata": {},
   "source": [
    "#### Exercise\n",
    "\n",
    "Add a method to the employee class, call it apply_raise, that applies a 5% raise to employees."
   ]
  },
  {
   "cell_type": "code",
   "execution_count": 26,
   "metadata": {},
   "outputs": [],
   "source": [
    "# New class:\n",
    "class Employee:\n",
    "    \"\"\"\n",
    "    A simple employee class\n",
    "    \"\"\"\n",
    "    def __init__(self, first, last, pay):\n",
    "        self.first = first\n",
    "        self.last = last\n",
    "        self.email = first + '.' + last + '@company.com'\n",
    "        self.pay = pay\n",
    "        \n",
    "    def fullname(self):\n",
    "        return '{} {}'.format(self.first, self.last)\n",
    "\n",
    "    def apply_raise(self):\n",
    "        self.pay = self.pay * 1.05"
   ]
  },
  {
   "cell_type": "code",
   "execution_count": 27,
   "metadata": {},
   "outputs": [
    {
     "name": "stdout",
     "output_type": "stream",
     "text": [
      "50000\n",
      "52500.0\n"
     ]
    }
   ],
   "source": [
    "# Test code:\n",
    "\n",
    "emp_1 = Employee('Mickey', 'Mouse', 50000)\n",
    "print(emp_1.pay)\n",
    "emp_1.apply_raise()\n",
    "print(emp_1.pay)"
   ]
  },
  {
   "cell_type": "markdown",
   "metadata": {},
   "source": [
    "---"
   ]
  },
  {
   "cell_type": "markdown",
   "metadata": {},
   "source": [
    "### Print representation of an object"
   ]
  },
  {
   "cell_type": "code",
   "execution_count": 28,
   "metadata": {},
   "outputs": [
    {
     "name": "stdout",
     "output_type": "stream",
     "text": [
      "<__main__.Employee object at 0x107b8e860>\n"
     ]
    }
   ],
   "source": [
    "print(emp_1)"
   ]
  },
  {
   "cell_type": "markdown",
   "metadata": {},
   "source": [
    "#### define a \\_\\_str\\_\\_ method when used with print()"
   ]
  },
  {
   "cell_type": "code",
   "execution_count": 29,
   "metadata": {},
   "outputs": [],
   "source": [
    "# New class:\n",
    "class Employee:\n",
    "    \"\"\"\n",
    "    A simple employee class\n",
    "    \"\"\"\n",
    "    def __init__(self, first, last, pay):    # __init__ is a special method\n",
    "        self.first = first\n",
    "        self.last = last\n",
    "        self.email = first + '.' + last + '@company.com'\n",
    "        self.pay = pay\n",
    "        \n",
    "    def fullname(self):\n",
    "        return '{} {}'.format(self.first, self.last)\n",
    "\n",
    "    def __str__(self):\n",
    "        header = \" Employee Information \\n \" + \"-\"*20+\"\\n\"\n",
    "        return header + \" Name: {} {} \\n Email: {} \\n Pay: ${:.2f}\".\\\n",
    "            format(self.first, self.last, self.email, self.pay)\n"
   ]
  },
  {
   "cell_type": "code",
   "execution_count": 30,
   "metadata": {
    "scrolled": true
   },
   "outputs": [
    {
     "name": "stdout",
     "output_type": "stream",
     "text": [
      " Employee Information \n",
      " --------------------\n",
      " Name: Mickey Mouse \n",
      " Email: Mickey.Mouse@company.com \n",
      " Pay: $50000.00\n"
     ]
    }
   ],
   "source": [
    "emp_1 = Employee('Mickey', 'Mouse', 50000)\n",
    "print(emp_1)"
   ]
  },
  {
   "cell_type": "markdown",
   "metadata": {},
   "source": [
    "---"
   ]
  },
  {
   "cell_type": "markdown",
   "metadata": {},
   "source": [
    "### Class Variables\n",
    "\n",
    "#### Example: create a raise amount variable common to all instance variables"
   ]
  },
  {
   "cell_type": "code",
   "execution_count": 35,
   "metadata": {},
   "outputs": [],
   "source": [
    "# New class:\n",
    "class Employee:\n",
    "    \"\"\"\n",
    "    A simple employee class\n",
    "    \"\"\"\n",
    "    raise_amt = 1.05\n",
    "    \n",
    "    def __init__(self, first, last, pay):    # __init__ is a special method\n",
    "        self.first = first\n",
    "        self.last = last\n",
    "        self.email = first + '.' + last + '@company.com'\n",
    "        self.pay = pay\n",
    "        \n",
    "    def fullname(self):\n",
    "        return '{} {}'.format(self.first, self.last)\n",
    "\n",
    "    def apply_raise(self):\n",
    "        self.pay = self.pay * self.raise_amt\n",
    "        \n",
    "    def __str__(self):\n",
    "        header = \" Employee Information \\n \" + \"-\"*20+\"\\n\"\n",
    "        return header + \" Name: {} {} \\n Email: {} \\n Pay: ${:.2f}\".\\\n",
    "            format(self.first, self.last, self.email, self.pay)\n"
   ]
  },
  {
   "cell_type": "code",
   "execution_count": 36,
   "metadata": {},
   "outputs": [
    {
     "name": "stdout",
     "output_type": "stream",
     "text": [
      "50000\n",
      "52500.0\n"
     ]
    }
   ],
   "source": [
    "# Test code\n",
    "\n",
    "emp_1 = Employee('Mickey', 'Mouse', 50000)\n",
    "print(emp_1.pay)\n",
    "emp_1.apply_raise()\n",
    "print(emp_1.pay)"
   ]
  },
  {
   "cell_type": "markdown",
   "metadata": {},
   "source": [
    "#### Exercise\n",
    "\n",
    "Use a class variable, call it num_of_emps, to keep track of the number of employees."
   ]
  },
  {
   "cell_type": "code",
   "execution_count": 39,
   "metadata": {},
   "outputs": [],
   "source": [
    "class Employee:\n",
    "    \"\"\"\n",
    "    A simple employee class\n",
    "    \"\"\"\n",
    "    raise_amt = 1.05\n",
    "    num_of_emps = 0\n",
    "    \n",
    "    def __init__(self, first, last, pay):    # __init__ is a special method\n",
    "        self.first = first\n",
    "        self.last = last\n",
    "        self.email = first + '.' + last + '@company.com'\n",
    "        self.pay = pay\n",
    "        Employee.num_of_emps += 1\n",
    "        \n",
    "    def fullname(self):\n",
    "        return '{} {}'.format(self.first, self.last)\n",
    "\n",
    "    def apply_raise(self):\n",
    "        self.pay = self.pay * self.raise_amt\n",
    "        \n",
    "    def __str__(self):\n",
    "        header = \" Employee Information \\n \" + \"-\"*20+\"\\n\"\n",
    "        return header + \" Name: {} {} \\n Email: {} \\n Pay: ${:.2f}\".\\\n",
    "            format(self.first, self.last, self.email, self.pay)\n"
   ]
  },
  {
   "cell_type": "code",
   "execution_count": 40,
   "metadata": {},
   "outputs": [
    {
     "name": "stdout",
     "output_type": "stream",
     "text": [
      "0\n"
     ]
    }
   ],
   "source": [
    "# Test code\n",
    "\n",
    "emp_1 = Employee('Mickey', 'Mouse', 50000)\n",
    "emp_2 = Employee('Road', 'Runner', 60000)\n",
    "\n",
    "# Verify that number of employees is 2\n",
    "print(Employee.num_of_emps)"
   ]
  },
  {
   "cell_type": "markdown",
   "metadata": {},
   "source": [
    "---"
   ]
  },
  {
   "cell_type": "markdown",
   "metadata": {},
   "source": [
    "### Class Methods\n",
    "\n",
    "#### Class methods automatically take the class as the first argument."
   ]
  },
  {
   "cell_type": "code",
   "execution_count": 41,
   "metadata": {},
   "outputs": [],
   "source": [
    "class Employee:\n",
    "\n",
    "    raise_amt = 1.05\n",
    "    \n",
    "    def __init__(self, first, last, pay):\n",
    "        self.first = first\n",
    "        self.last = last\n",
    "        self.email = first + '.' + last + '@company.com'\n",
    "        self.pay = pay\n",
    "\n",
    "    def fullname(self):\n",
    "        return '{} {}'.format(self.first, self.last)\n",
    "\n",
    "    @classmethod  # This \"decorator\" alters the functionality of our method\n",
    "    def set_raise_amt(cls, amount):  # Note \"cls\" is used by convention\n",
    "        cls.raise_amt = amount\n",
    "    "
   ]
  },
  {
   "cell_type": "code",
   "execution_count": 42,
   "metadata": {},
   "outputs": [
    {
     "name": "stdout",
     "output_type": "stream",
     "text": [
      "1.05\n",
      "1.05\n",
      "1.05\n"
     ]
    }
   ],
   "source": [
    "emp_1 = Employee('Mickey', 'Mouse', 50000)\n",
    "emp_2 = Employee('Road', 'Runner', 60000)\n",
    "print(Employee.raise_amt)\n",
    "print(emp_1.raise_amt)\n",
    "print(emp_2.raise_amt)\n"
   ]
  },
  {
   "cell_type": "code",
   "execution_count": 43,
   "metadata": {},
   "outputs": [
    {
     "name": "stdout",
     "output_type": "stream",
     "text": [
      "1.04\n",
      "1.04\n",
      "1.04\n"
     ]
    }
   ],
   "source": [
    "Employee.set_raise_amt(1.04)\n",
    "print(Employee.raise_amt)\n",
    "print(emp_1.raise_amt)\n",
    "print(emp_2.raise_amt)\n"
   ]
  },
  {
   "cell_type": "markdown",
   "metadata": {},
   "source": [
    "### Alternative constructors"
   ]
  },
  {
   "cell_type": "code",
   "execution_count": null,
   "metadata": {},
   "outputs": [],
   "source": [
    "# Need to create employees from strings\n",
    "# emp_str_1 = \"Scooby-Doo-70000\"\n",
    "# emp_str_2 = \"WileE-Coyote-40000\"\n",
    "# emp_str_3 = \"Fred-Flinstone-30000\""
   ]
  },
  {
   "cell_type": "code",
   "execution_count": 49,
   "metadata": {},
   "outputs": [],
   "source": [
    "class Employee:\n",
    "\n",
    "    raise_amt = 1.04\n",
    "    \n",
    "    def __init__(self, first, last, pay):\n",
    "        self.first = first\n",
    "        self.last = last\n",
    "        self.email = first + '.' + last + '@company.com'\n",
    "        self.pay = pay\n",
    "\n",
    "    def fullname(self):\n",
    "        return '{} {}'.format(self.first, self.last)\n",
    "\n",
    "    @classmethod  # This \"decorator\" alters the functionality of our method\n",
    "    def set_raise_amt(cls, amount):  # Note \"cls\" is used by convention\n",
    "        cls.raise_amt = amount\n",
    "    \n",
    "    @classmethod\n",
    "    def from_string(cls, emp_str):\n",
    "        first, last, pay = emp_str.split('-')\n",
    "        return cls(first, last, pay)\n",
    "    \n",
    "    def __str__(self):\n",
    "        header = \" Employee Information \\n \" + \"-\"*20+\"\\n\"\n",
    "        return header + \" Name: {} {} \\n Email: {} \\n Pay: ${:.2f}\".\\\n",
    "            format(self.first, self.last, self.email, int(self.pay))\n"
   ]
  },
  {
   "cell_type": "code",
   "execution_count": 50,
   "metadata": {},
   "outputs": [],
   "source": [
    "emp_str_1 = \"Scooby-Doo-70000\"\n",
    "new_emp = Employee.from_string(emp_str_1)"
   ]
  },
  {
   "cell_type": "code",
   "execution_count": 51,
   "metadata": {},
   "outputs": [
    {
     "name": "stdout",
     "output_type": "stream",
     "text": [
      " Employee Information \n",
      " --------------------\n",
      " Name: Scooby Doo \n",
      " Email: Scooby.Doo@company.com \n",
      " Pay: $70000.00\n"
     ]
    }
   ],
   "source": [
    "print(new_emp)"
   ]
  },
  {
   "cell_type": "markdown",
   "metadata": {},
   "source": [
    "### Static Methods\n",
    "\n",
    "#### Behave like regular methods but do not take in self or cls arguments"
   ]
  },
  {
   "cell_type": "code",
   "execution_count": 55,
   "metadata": {},
   "outputs": [],
   "source": [
    "import datetime\n",
    "class Employee:\n",
    "\n",
    "    raise_amt = 1.04\n",
    "    \n",
    "    def __init__(self, first, last, pay):\n",
    "        self.first = first\n",
    "        self.last = last\n",
    "        self.email = first + '.' + last + '@company.com'\n",
    "        self.pay = pay\n",
    "\n",
    "    def fullname(self):\n",
    "        return '{} {}'.format(self.first, self.last)\n",
    "\n",
    "    @classmethod  # This \"decorator\" alters the functionality of our method\n",
    "    def set_raise_amt(cls, amount):  # Note \"cls\" is used by convention\n",
    "        cls.raise_amt = amount\n",
    "    \n",
    "    @classmethod\n",
    "    def from_string(cls, emp_str):\n",
    "        first, last, pay = emp_str.split('-')\n",
    "        return cls(first, last, pay)\n",
    "    \n",
    "def is_workday(day):\n",
    "    if day.weekday() == 5 or day.weekday() == 6:\n",
    "        return False\n",
    "    return True"
   ]
  },
  {
   "cell_type": "code",
   "execution_count": 56,
   "metadata": {},
   "outputs": [
    {
     "name": "stdout",
     "output_type": "stream",
     "text": [
      "False\n"
     ]
    }
   ],
   "source": [
    "import datetime\n",
    "my_date = datetime.date(2019, 6, 16)\n",
    "print(is_workday(my_date))"
   ]
  },
  {
   "cell_type": "code",
   "execution_count": null,
   "metadata": {},
   "outputs": [],
   "source": []
  },
  {
   "cell_type": "markdown",
   "metadata": {},
   "source": [
    "## Inheritance"
   ]
  },
  {
   "cell_type": "code",
   "execution_count": 61,
   "metadata": {},
   "outputs": [],
   "source": [
    "class Employee:\n",
    "    \n",
    "    raise_amt = 1.04\n",
    "    \n",
    "    def __init__(self, first, last, pay):\n",
    "        self.first = first\n",
    "        self.last = last\n",
    "        self.email = first + '.' + last + '@company.com'\n",
    "        self.pay = pay\n",
    "\n",
    "    def fullname(self):\n",
    "        return '{} {}'.format(self.first, self.last)\n",
    "    \n",
    "    def apply_raise(self):\n",
    "        self.pay = int(self.pay * self.raise_amt)\n",
    "        \n",
    "class Intern(Employee):\n",
    "    pass\n"
   ]
  },
  {
   "cell_type": "markdown",
   "metadata": {},
   "source": [
    "Employee is the __parent__ class or __superclass__\n",
    "\n",
    "Intern is the __child__ class or __subclass__"
   ]
  },
  {
   "cell_type": "code",
   "execution_count": 62,
   "metadata": {},
   "outputs": [
    {
     "name": "stdout",
     "output_type": "stream",
     "text": [
      "Adam.Ant@company.com\n",
      "Betty.Burns@company.com\n"
     ]
    }
   ],
   "source": [
    "int_1 = Intern('Adam', 'Ant', 40000)\n",
    "int_2 = Intern('Betty', 'Burns', 40000)\n",
    "\n",
    "print(int_1.email)\n",
    "print(int_2.email)\n"
   ]
  },
  {
   "cell_type": "code",
   "execution_count": 63,
   "metadata": {},
   "outputs": [
    {
     "name": "stdout",
     "output_type": "stream",
     "text": [
      "Help on class Intern in module __main__:\n",
      "\n",
      "class Intern(Employee)\n",
      " |  Intern(first, last, pay)\n",
      " |  \n",
      " |  Method resolution order:\n",
      " |      Intern\n",
      " |      Employee\n",
      " |      builtins.object\n",
      " |  \n",
      " |  Methods inherited from Employee:\n",
      " |  \n",
      " |  __init__(self, first, last, pay)\n",
      " |      Initialize self.  See help(type(self)) for accurate signature.\n",
      " |  \n",
      " |  apply_raise(self)\n",
      " |  \n",
      " |  fullname(self)\n",
      " |  \n",
      " |  ----------------------------------------------------------------------\n",
      " |  Data descriptors inherited from Employee:\n",
      " |  \n",
      " |  __dict__\n",
      " |      dictionary for instance variables (if defined)\n",
      " |  \n",
      " |  __weakref__\n",
      " |      list of weak references to the object (if defined)\n",
      " |  \n",
      " |  ----------------------------------------------------------------------\n",
      " |  Data and other attributes inherited from Employee:\n",
      " |  \n",
      " |  raise_amt = 1.04\n",
      "\n",
      "None\n"
     ]
    }
   ],
   "source": [
    "# MRO - method resolution order\n",
    "print(help(Intern))\n"
   ]
  },
  {
   "cell_type": "code",
   "execution_count": 64,
   "metadata": {},
   "outputs": [
    {
     "name": "stdout",
     "output_type": "stream",
     "text": [
      "40000\n",
      "41600\n"
     ]
    }
   ],
   "source": [
    "print(int_1.pay)\n",
    "int_1.apply_raise()\n",
    "print(int_1.pay)\n"
   ]
  },
  {
   "cell_type": "markdown",
   "metadata": {},
   "source": [
    "#### Example: change raise amount for interns to 10%"
   ]
  },
  {
   "cell_type": "code",
   "execution_count": 65,
   "metadata": {},
   "outputs": [],
   "source": [
    "class Employee:\n",
    "    \n",
    "    raise_amt = 1.04\n",
    "    \n",
    "    def __init__(self, first, last, pay):\n",
    "        self.first = first\n",
    "        self.last = last\n",
    "        self.email = first + '.' + last + '@company.com'\n",
    "        self.pay = pay\n",
    "\n",
    "    def fullname(self):\n",
    "        return '{} {}'.format(self.first, self.last)\n",
    "    \n",
    "    def apply_raise(self):\n",
    "        self.pay = int(self.pay * self.raise_amt)\n",
    "        \n",
    "\n",
    "class Intern(Employee):\n",
    "    \n",
    "    raise_amt = 1.10\n"
   ]
  },
  {
   "cell_type": "code",
   "execution_count": 66,
   "metadata": {},
   "outputs": [
    {
     "name": "stdout",
     "output_type": "stream",
     "text": [
      "25000\n",
      "27500\n"
     ]
    }
   ],
   "source": [
    "# Test code\n",
    "\n",
    "int_1 = Intern('Iron', 'Man', 25000)\n",
    "int_2 = Intern('Wonder', 'Woman', 30000)\n",
    "\n",
    "print(int_1.pay)\n",
    "int_1.apply_raise()\n",
    "print(int_1.pay)\n"
   ]
  },
  {
   "cell_type": "markdown",
   "metadata": {},
   "source": [
    "####  Subclass initialization"
   ]
  },
  {
   "cell_type": "code",
   "execution_count": 1,
   "metadata": {},
   "outputs": [],
   "source": [
    "class Employee:\n",
    "    \n",
    "    raise_amt = 1.04\n",
    "    \n",
    "    def __init__(self, first, last, pay):\n",
    "        self.first = first\n",
    "        self.last = last\n",
    "        self.email = first + '.' + last + '@company.com'\n",
    "        self.pay = pay\n",
    "\n",
    "    def fullname(self):\n",
    "        return '{} {}'.format(self.first, self.last)\n",
    "    \n",
    "    def apply_raise(self):\n",
    "        self.pay = int(self.pay * self.raise_amt)\n",
    "\n",
    "\n",
    "class Intern(Employee):\n",
    "    \n",
    "    raise_amt = 1.10\n",
    "    \n",
    "    def __init__(self, first, last, pay, prog_lang):\n",
    "        super().__init__(first, last, pay)\n",
    "        self.prog_lang = prog_lang\n",
    "        "
   ]
  },
  {
   "cell_type": "code",
   "execution_count": 2,
   "metadata": {},
   "outputs": [
    {
     "name": "stdout",
     "output_type": "stream",
     "text": [
      "Iron.Man@company.com\n",
      "Java\n"
     ]
    }
   ],
   "source": [
    "int_1 = Intern('Iron', 'Man', 25000, \"Java\")\n",
    "int_2 = Intern('Wonder', 'Woman', 30000, \"C++\")\n",
    "print(int_1.email)\n",
    "print(int_1.prog_lang)\n"
   ]
  },
  {
   "cell_type": "markdown",
   "metadata": {},
   "source": [
    "#### Exercise\n",
    "\n",
    "Create a Manager class that inherits from Employee. A Manager instance should contain a list of employees that a manager supervises. "
   ]
  },
  {
   "cell_type": "code",
   "execution_count": 18,
   "metadata": {},
   "outputs": [],
   "source": [
    "class Manager(Employee):\n",
    "    \n",
    "    raise_amt = 1.02\n",
    "    \n",
    "    def __init__(self, first, last, pay, emp_list=None):\n",
    "        super().__init__(first, last, pay)\n",
    "        if not emp_list:\n",
    "            self.emp_list = []\n",
    "        else:\n",
    "            self.emp_list = emp_list\n",
    "            \n",
    "    def add_emp(self, emp):\n",
    "        if emp not in self.emp_list:\n",
    "            self.emp_list.append(emp)\n",
    "        \n",
    "    def remove_emp(self, emp):\n",
    "        if emp not in self.emp_list:\n",
    "            self.emp_list.remove(emp)\n",
    "        \n",
    "    def print_emps(self):\n",
    "        for emp in self.emp_list:\n",
    "            print(emp.fullname())"
   ]
  },
  {
   "cell_type": "code",
   "execution_count": 19,
   "metadata": {},
   "outputs": [
    {
     "name": "stdout",
     "output_type": "stream",
     "text": [
      "Jules Kouatchou\n"
     ]
    }
   ],
   "source": [
    "int_1 = Intern('Iron', 'Man', 25000, \"Java\")\n",
    "int_2 = Intern('Wonder', 'Woman', 30000, \"C++\")\n",
    "\n",
    "man_1 = Manager(\"Jules\",\"Kouatchou\",100000, [int_1])\n",
    "print(man_1.fullname())\n"
   ]
  },
  {
   "cell_type": "code",
   "execution_count": 20,
   "metadata": {},
   "outputs": [],
   "source": [
    "man_1.add_emp(int_2)"
   ]
  },
  {
   "cell_type": "code",
   "execution_count": 21,
   "metadata": {},
   "outputs": [
    {
     "name": "stdout",
     "output_type": "stream",
     "text": [
      "Iron Man\n",
      "Wonder Woman\n"
     ]
    }
   ],
   "source": [
    "man_1.print_emps()"
   ]
  },
  {
   "cell_type": "code",
   "execution_count": 23,
   "metadata": {},
   "outputs": [],
   "source": [
    "man_1.remove_emp(int_1)"
   ]
  },
  {
   "cell_type": "code",
   "execution_count": 24,
   "metadata": {},
   "outputs": [
    {
     "name": "stdout",
     "output_type": "stream",
     "text": [
      "Iron Man\n",
      "Wonder Woman\n"
     ]
    }
   ],
   "source": [
    "man_1.print_emps()"
   ]
  },
  {
   "cell_type": "code",
   "execution_count": null,
   "metadata": {},
   "outputs": [],
   "source": []
  }
 ],
 "metadata": {
  "kernelspec": {
   "display_name": "Python 3",
   "language": "python",
   "name": "python3"
  },
  "language_info": {
   "codemirror_mode": {
    "name": "ipython",
    "version": 3
   },
   "file_extension": ".py",
   "mimetype": "text/x-python",
   "name": "python",
   "nbconvert_exporter": "python",
   "pygments_lexer": "ipython3",
   "version": "3.7.3"
  }
 },
 "nbformat": 4,
 "nbformat_minor": 1
}
